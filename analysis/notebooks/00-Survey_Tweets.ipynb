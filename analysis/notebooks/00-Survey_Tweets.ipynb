{
 "cells": [
  {
   "cell_type": "code",
   "execution_count": 1,
   "id": "67d85f8c-6b50-4a9e-88b1-767106eab0a6",
   "metadata": {
    "execution": {
     "iopub.execute_input": "2024-11-14T16:34:11.685850Z",
     "iopub.status.busy": "2024-11-14T16:34:11.685135Z",
     "iopub.status.idle": "2024-11-14T16:34:11.690929Z",
     "shell.execute_reply": "2024-11-14T16:34:11.689391Z",
     "shell.execute_reply.started": "2024-11-14T16:34:11.685807Z"
    }
   },
   "outputs": [],
   "source": [
    "import pandas as pd\n",
    "\n",
    "DATA_PATH = '../../backend/data/tweets/tweets.parquet'"
   ]
  },
  {
   "cell_type": "code",
   "execution_count": 2,
   "id": "8eb99f66-901e-4728-925b-2c7b50d53019",
   "metadata": {
    "execution": {
     "iopub.execute_input": "2024-11-14T16:34:12.515589Z",
     "iopub.status.busy": "2024-11-14T16:34:12.515151Z",
     "iopub.status.idle": "2024-11-14T16:34:12.636550Z",
     "shell.execute_reply": "2024-11-14T16:34:12.635909Z",
     "shell.execute_reply.started": "2024-11-14T16:34:12.515546Z"
    }
   },
   "outputs": [
    {
     "data": {
      "text/plain": [
       "(480, 4)"
      ]
     },
     "execution_count": 2,
     "metadata": {},
     "output_type": "execute_result"
    }
   ],
   "source": [
    "tweets_df = pd.read_parquet(DATA_PATH)\n",
    "tweets_df.shape"
   ]
  },
  {
   "cell_type": "code",
   "execution_count": 3,
   "id": "a0ee99e6-7c87-419c-bb6c-53cc33f3bdf5",
   "metadata": {
    "execution": {
     "iopub.execute_input": "2024-11-14T16:34:13.859881Z",
     "iopub.status.busy": "2024-11-14T16:34:13.859507Z",
     "iopub.status.idle": "2024-11-14T16:34:13.876118Z",
     "shell.execute_reply": "2024-11-14T16:34:13.875259Z",
     "shell.execute_reply.started": "2024-11-14T16:34:13.859853Z"
    }
   },
   "outputs": [
    {
     "data": {
      "text/html": [
       "<div>\n",
       "<style scoped>\n",
       "    .dataframe tbody tr th:only-of-type {\n",
       "        vertical-align: middle;\n",
       "    }\n",
       "\n",
       "    .dataframe tbody tr th {\n",
       "        vertical-align: top;\n",
       "    }\n",
       "\n",
       "    .dataframe thead th {\n",
       "        text-align: right;\n",
       "    }\n",
       "</style>\n",
       "<table border=\"1\" class=\"dataframe\">\n",
       "  <thead>\n",
       "    <tr style=\"text-align: right;\">\n",
       "      <th></th>\n",
       "      <th>tweet_id</th>\n",
       "      <th>tweet_text</th>\n",
       "      <th>tweet_bias</th>\n",
       "      <th>group</th>\n",
       "    </tr>\n",
       "  </thead>\n",
       "  <tbody>\n",
       "    <tr>\n",
       "      <th>0</th>\n",
       "      <td>L099</td>\n",
       "      <td>O Governador Ibaneis Rocha e o ex ministro bol...</td>\n",
       "      <td>-1</td>\n",
       "      <td>human</td>\n",
       "    </tr>\n",
       "    <tr>\n",
       "      <th>1</th>\n",
       "      <td>L082</td>\n",
       "      <td>O ministro @alexandre acaba de intimar o diret...</td>\n",
       "      <td>-1</td>\n",
       "      <td>human</td>\n",
       "    </tr>\n",
       "    <tr>\n",
       "      <th>2</th>\n",
       "      <td>L029</td>\n",
       "      <td>Home do Google agora. Tá imunda a campanha das...</td>\n",
       "      <td>-1</td>\n",
       "      <td>human</td>\n",
       "    </tr>\n",
       "    <tr>\n",
       "      <th>3</th>\n",
       "      <td>L027</td>\n",
       "      <td>Governo do DF foi irresponsável frente à invas...</td>\n",
       "      <td>-1</td>\n",
       "      <td>human</td>\n",
       "    </tr>\n",
       "    <tr>\n",
       "      <th>4</th>\n",
       "      <td>R148</td>\n",
       "      <td>A imprensa diz que o relatório do PL é superfi...</td>\n",
       "      <td>1</td>\n",
       "      <td>human</td>\n",
       "    </tr>\n",
       "  </tbody>\n",
       "</table>\n",
       "</div>"
      ],
      "text/plain": [
       "  tweet_id                                         tweet_text  tweet_bias  \\\n",
       "0     L099  O Governador Ibaneis Rocha e o ex ministro bol...          -1   \n",
       "1     L082  O ministro @alexandre acaba de intimar o diret...          -1   \n",
       "2     L029  Home do Google agora. Tá imunda a campanha das...          -1   \n",
       "3     L027  Governo do DF foi irresponsável frente à invas...          -1   \n",
       "4     R148  A imprensa diz que o relatório do PL é superfi...           1   \n",
       "\n",
       "   group  \n",
       "0  human  \n",
       "1  human  \n",
       "2  human  \n",
       "3  human  \n",
       "4  human  "
      ]
     },
     "execution_count": 3,
     "metadata": {},
     "output_type": "execute_result"
    }
   ],
   "source": [
    "tweets_df.head()"
   ]
  }
 ],
 "metadata": {
  "kernelspec": {
   "display_name": "Python 3 (ipykernel)",
   "language": "python",
   "name": "python3"
  },
  "language_info": {
   "codemirror_mode": {
    "name": "ipython",
    "version": 3
   },
   "file_extension": ".py",
   "mimetype": "text/x-python",
   "name": "python",
   "nbconvert_exporter": "python",
   "pygments_lexer": "ipython3",
   "version": "3.12.2"
  }
 },
 "nbformat": 4,
 "nbformat_minor": 5
}
