{
 "cells": [
  {
   "cell_type": "code",
   "execution_count": 1,
   "id": "67d85f8c-6b50-4a9e-88b1-767106eab0a6",
   "metadata": {
    "execution": {
     "iopub.execute_input": "2024-09-18T18:33:42.592975Z",
     "iopub.status.busy": "2024-09-18T18:33:42.592639Z",
     "iopub.status.idle": "2024-09-18T18:33:42.596982Z",
     "shell.execute_reply": "2024-09-18T18:33:42.596017Z",
     "shell.execute_reply.started": "2024-09-18T18:33:42.592947Z"
    }
   },
   "outputs": [],
   "source": [
    "import pandas as pd\n",
    "\n",
    "DATA_PATH = '../../backend/data/tweets/tweets.parquet'"
   ]
  },
  {
   "cell_type": "code",
   "execution_count": 2,
   "id": "8eb99f66-901e-4728-925b-2c7b50d53019",
   "metadata": {
    "execution": {
     "iopub.execute_input": "2024-09-18T18:34:06.275182Z",
     "iopub.status.busy": "2024-09-18T18:34:06.274498Z",
     "iopub.status.idle": "2024-09-18T18:34:06.400260Z",
     "shell.execute_reply": "2024-09-18T18:34:06.398364Z",
     "shell.execute_reply.started": "2024-09-18T18:34:06.275140Z"
    }
   },
   "outputs": [
    {
     "data": {
      "text/plain": [
       "(90, 7)"
      ]
     },
     "execution_count": 2,
     "metadata": {},
     "output_type": "execute_result"
    }
   ],
   "source": [
    "tweets_df = pd.read_parquet(DATA_PATH)\n",
    "tweets_df.shape"
   ]
  },
  {
   "cell_type": "code",
   "execution_count": 3,
   "id": "a0ee99e6-7c87-419c-bb6c-53cc33f3bdf5",
   "metadata": {
    "execution": {
     "iopub.execute_input": "2024-09-18T18:34:11.451684Z",
     "iopub.status.busy": "2024-09-18T18:34:11.450482Z",
     "iopub.status.idle": "2024-09-18T18:34:11.474255Z",
     "shell.execute_reply": "2024-09-18T18:34:11.472887Z",
     "shell.execute_reply.started": "2024-09-18T18:34:11.451618Z"
    }
   },
   "outputs": [
    {
     "data": {
      "text/html": [
       "<div>\n",
       "<style scoped>\n",
       "    .dataframe tbody tr th:only-of-type {\n",
       "        vertical-align: middle;\n",
       "    }\n",
       "\n",
       "    .dataframe tbody tr th {\n",
       "        vertical-align: top;\n",
       "    }\n",
       "\n",
       "    .dataframe thead th {\n",
       "        text-align: right;\n",
       "    }\n",
       "</style>\n",
       "<table border=\"1\" class=\"dataframe\">\n",
       "  <thead>\n",
       "    <tr style=\"text-align: right;\">\n",
       "      <th></th>\n",
       "      <th>tweet_id</th>\n",
       "      <th>tweet_text</th>\n",
       "      <th>bias</th>\n",
       "      <th>tweet_bias</th>\n",
       "      <th>rephrased_id</th>\n",
       "      <th>rephrased_text</th>\n",
       "      <th>group</th>\n",
       "    </tr>\n",
       "  </thead>\n",
       "  <tbody>\n",
       "    <tr>\n",
       "      <th>0</th>\n",
       "      <td>R029</td>\n",
       "      <td>O PL da censura! Não é um projeto para proibir...</td>\n",
       "      <td>R</td>\n",
       "      <td>1</td>\n",
       "      <td>HR029</td>\n",
       "      <td>Rep - O PL da censura! Não é um projeto para p...</td>\n",
       "      <td>human</td>\n",
       "    </tr>\n",
       "    <tr>\n",
       "      <th>1</th>\n",
       "      <td>L076</td>\n",
       "      <td>ATENÇÃO: Nos bastidores, governador de Brasíli...</td>\n",
       "      <td>L</td>\n",
       "      <td>-1</td>\n",
       "      <td>PL076</td>\n",
       "      <td>Rep - ATENÇÃO: Nos bastidores, governador de B...</td>\n",
       "      <td>placebo</td>\n",
       "    </tr>\n",
       "    <tr>\n",
       "      <th>2</th>\n",
       "      <td>L060</td>\n",
       "      <td>PM do DF permitiu absurdamente a entrada de bo...</td>\n",
       "      <td>L</td>\n",
       "      <td>-1</td>\n",
       "      <td>PL060</td>\n",
       "      <td>Rep - PM do DF permitiu absurdamente a entrada...</td>\n",
       "      <td>placebo</td>\n",
       "    </tr>\n",
       "    <tr>\n",
       "      <th>3</th>\n",
       "      <td>L063</td>\n",
       "      <td>🚨 URGENTE! Diretor-geral bolsonarista da Políc...</td>\n",
       "      <td>L</td>\n",
       "      <td>-1</td>\n",
       "      <td>PL063</td>\n",
       "      <td>Rep - 🚨 URGENTE! Diretor-geral bolsonarista da...</td>\n",
       "      <td>placebo</td>\n",
       "    </tr>\n",
       "    <tr>\n",
       "      <th>4</th>\n",
       "      <td>L046</td>\n",
       "      <td>Uma repórter fotográfica do @Metropoles foi AG...</td>\n",
       "      <td>L</td>\n",
       "      <td>-1</td>\n",
       "      <td>ML046</td>\n",
       "      <td>Rep - Uma repórter fotográfica do @Metropoles ...</td>\n",
       "      <td>machine</td>\n",
       "    </tr>\n",
       "  </tbody>\n",
       "</table>\n",
       "</div>"
      ],
      "text/plain": [
       "  tweet_id                                         tweet_text bias  \\\n",
       "0     R029  O PL da censura! Não é um projeto para proibir...    R   \n",
       "1     L076  ATENÇÃO: Nos bastidores, governador de Brasíli...    L   \n",
       "2     L060  PM do DF permitiu absurdamente a entrada de bo...    L   \n",
       "3     L063  🚨 URGENTE! Diretor-geral bolsonarista da Políc...    L   \n",
       "4     L046  Uma repórter fotográfica do @Metropoles foi AG...    L   \n",
       "\n",
       "   tweet_bias rephrased_id                                     rephrased_text  \\\n",
       "0           1        HR029  Rep - O PL da censura! Não é um projeto para p...   \n",
       "1          -1        PL076  Rep - ATENÇÃO: Nos bastidores, governador de B...   \n",
       "2          -1        PL060  Rep - PM do DF permitiu absurdamente a entrada...   \n",
       "3          -1        PL063  Rep - 🚨 URGENTE! Diretor-geral bolsonarista da...   \n",
       "4          -1        ML046  Rep - Uma repórter fotográfica do @Metropoles ...   \n",
       "\n",
       "     group  \n",
       "0    human  \n",
       "1  placebo  \n",
       "2  placebo  \n",
       "3  placebo  \n",
       "4  machine  "
      ]
     },
     "execution_count": 3,
     "metadata": {},
     "output_type": "execute_result"
    }
   ],
   "source": [
    "tweets_df.head()"
   ]
  },
  {
   "cell_type": "code",
   "execution_count": null,
   "id": "35ec1612-a991-416b-a7e1-7226d13e617e",
   "metadata": {},
   "outputs": [],
   "source": []
  }
 ],
 "metadata": {
  "kernelspec": {
   "display_name": "Python 3 (ipykernel)",
   "language": "python",
   "name": "python3"
  },
  "language_info": {
   "codemirror_mode": {
    "name": "ipython",
    "version": 3
   },
   "file_extension": ".py",
   "mimetype": "text/x-python",
   "name": "python",
   "nbconvert_exporter": "python",
   "pygments_lexer": "ipython3",
   "version": "3.12.2"
  }
 },
 "nbformat": 4,
 "nbformat_minor": 5
}
