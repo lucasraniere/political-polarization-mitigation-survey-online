{
 "cells": [
  {
   "cell_type": "code",
   "execution_count": 19,
   "id": "fa31853f-61fe-42f5-a66e-6cdaa9560a6d",
   "metadata": {
    "execution": {
     "iopub.execute_input": "2024-11-20T16:58:04.392918Z",
     "iopub.status.busy": "2024-11-20T16:58:04.391687Z",
     "iopub.status.idle": "2024-11-20T16:58:04.398055Z",
     "shell.execute_reply": "2024-11-20T16:58:04.397009Z",
     "shell.execute_reply.started": "2024-11-20T16:58:04.392851Z"
    }
   },
   "outputs": [],
   "source": [
    "import numpy as np\n",
    "import pandas as pd\n",
    "import statsmodels.api as sm\n",
    "\n",
    "S_DATA = '../../backend/data/database/survey_data.parquet'"
   ]
  },
  {
   "cell_type": "code",
   "execution_count": 20,
   "id": "19c44a4c-bfcc-4f37-979e-e637d0f5096c",
   "metadata": {
    "execution": {
     "iopub.execute_input": "2024-11-20T16:58:05.408611Z",
     "iopub.status.busy": "2024-11-20T16:58:05.408217Z",
     "iopub.status.idle": "2024-11-20T16:58:05.473408Z",
     "shell.execute_reply": "2024-11-20T16:58:05.472487Z",
     "shell.execute_reply.started": "2024-11-20T16:58:05.408577Z"
    }
   },
   "outputs": [
    {
     "data": {
      "text/plain": [
       "(264, 19)"
      ]
     },
     "execution_count": 20,
     "metadata": {},
     "output_type": "execute_result"
    }
   ],
   "source": [
    "survey_data = pd.read_parquet(S_DATA)\n",
    "survey_data.shape"
   ]
  },
  {
   "cell_type": "code",
   "execution_count": 21,
   "id": "977fcb5d-a6ac-4cd1-990d-3df2942482ca",
   "metadata": {
    "execution": {
     "iopub.execute_input": "2024-11-20T16:58:11.634575Z",
     "iopub.status.busy": "2024-11-20T16:58:11.634037Z",
     "iopub.status.idle": "2024-11-20T16:58:11.653485Z",
     "shell.execute_reply": "2024-11-20T16:58:11.652425Z",
     "shell.execute_reply.started": "2024-11-20T16:58:11.634525Z"
    }
   },
   "outputs": [
    {
     "data": {
      "text/html": [
       "<div>\n",
       "<style scoped>\n",
       "    .dataframe tbody tr th:only-of-type {\n",
       "        vertical-align: middle;\n",
       "    }\n",
       "\n",
       "    .dataframe tbody tr th {\n",
       "        vertical-align: top;\n",
       "    }\n",
       "\n",
       "    .dataframe thead th {\n",
       "        text-align: right;\n",
       "    }\n",
       "</style>\n",
       "<table border=\"1\" class=\"dataframe\">\n",
       "  <thead>\n",
       "    <tr style=\"text-align: right;\">\n",
       "      <th></th>\n",
       "      <th>AnswerId</th>\n",
       "      <th>FK_ParticipantId</th>\n",
       "      <th>FK_SessionId</th>\n",
       "      <th>Text1</th>\n",
       "      <th>Text2</th>\n",
       "      <th>AnswerQ1</th>\n",
       "      <th>AnswerQ2</th>\n",
       "      <th>AnswerQ3</th>\n",
       "      <th>AnswerQ4</th>\n",
       "      <th>TimeSpent</th>\n",
       "      <th>TreatedIsPolarized</th>\n",
       "      <th>TreatedLikertValue</th>\n",
       "      <th>OriginalIsPolarized</th>\n",
       "      <th>OriginalLikertValue</th>\n",
       "      <th>TreatedIsLessPolar</th>\n",
       "      <th>DiffLikertTreatedOriginal</th>\n",
       "      <th>TweetBias</th>\n",
       "      <th>ParticipantLeaning</th>\n",
       "      <th>TreatmentGroup</th>\n",
       "    </tr>\n",
       "  </thead>\n",
       "  <tbody>\n",
       "    <tr>\n",
       "      <th>0</th>\n",
       "      <td>57bb0ebfd4654c00018e0261T1</td>\n",
       "      <td>57bb0ebfd4654c00018e0261</td>\n",
       "      <td>671179cfd13e2cb0dc00fee4</td>\n",
       "      <td>MR749</td>\n",
       "      <td>R749</td>\n",
       "      <td>4.0</td>\n",
       "      <td>5.0</td>\n",
       "      <td>5.0</td>\n",
       "      <td>2.0</td>\n",
       "      <td>44</td>\n",
       "      <td>1</td>\n",
       "      <td>4</td>\n",
       "      <td>1</td>\n",
       "      <td>5</td>\n",
       "      <td>1</td>\n",
       "      <td>-1</td>\n",
       "      <td>R</td>\n",
       "      <td>4</td>\n",
       "      <td>machine</td>\n",
       "    </tr>\n",
       "    <tr>\n",
       "      <th>1</th>\n",
       "      <td>57bb0ebfd4654c00018e0261T2</td>\n",
       "      <td>57bb0ebfd4654c00018e0261</td>\n",
       "      <td>671179cfd13e2cb0dc00fee4</td>\n",
       "      <td>L167</td>\n",
       "      <td>ML167</td>\n",
       "      <td>3.0</td>\n",
       "      <td>3.0</td>\n",
       "      <td>5.0</td>\n",
       "      <td>3.0</td>\n",
       "      <td>43</td>\n",
       "      <td>-1</td>\n",
       "      <td>3</td>\n",
       "      <td>-1</td>\n",
       "      <td>3</td>\n",
       "      <td>0</td>\n",
       "      <td>-2</td>\n",
       "      <td>L</td>\n",
       "      <td>4</td>\n",
       "      <td>machine</td>\n",
       "    </tr>\n",
       "    <tr>\n",
       "      <th>2</th>\n",
       "      <td>57bb0ebfd4654c00018e0261T3</td>\n",
       "      <td>57bb0ebfd4654c00018e0261</td>\n",
       "      <td>671179cfd13e2cb0dc00fee4</td>\n",
       "      <td>MR050</td>\n",
       "      <td>R050</td>\n",
       "      <td>2.0</td>\n",
       "      <td>5.0</td>\n",
       "      <td>4.0</td>\n",
       "      <td>2.0</td>\n",
       "      <td>58</td>\n",
       "      <td>0</td>\n",
       "      <td>2</td>\n",
       "      <td>1</td>\n",
       "      <td>5</td>\n",
       "      <td>1</td>\n",
       "      <td>-3</td>\n",
       "      <td>R</td>\n",
       "      <td>4</td>\n",
       "      <td>machine</td>\n",
       "    </tr>\n",
       "    <tr>\n",
       "      <th>3</th>\n",
       "      <td>57bb0ebfd4654c00018e0261T4</td>\n",
       "      <td>57bb0ebfd4654c00018e0261</td>\n",
       "      <td>671179cfd13e2cb0dc00fee4</td>\n",
       "      <td>ML633</td>\n",
       "      <td>L633</td>\n",
       "      <td>4.0</td>\n",
       "      <td>4.0</td>\n",
       "      <td>5.0</td>\n",
       "      <td>2.0</td>\n",
       "      <td>64</td>\n",
       "      <td>1</td>\n",
       "      <td>4</td>\n",
       "      <td>1</td>\n",
       "      <td>4</td>\n",
       "      <td>1</td>\n",
       "      <td>0</td>\n",
       "      <td>L</td>\n",
       "      <td>4</td>\n",
       "      <td>machine</td>\n",
       "    </tr>\n",
       "    <tr>\n",
       "      <th>4</th>\n",
       "      <td>5ab848ffe1546900019b6ec9T1</td>\n",
       "      <td>5ab848ffe1546900019b6ec9</td>\n",
       "      <td>671793db2e378b0de8b1321d</td>\n",
       "      <td>L211</td>\n",
       "      <td>ML211</td>\n",
       "      <td>5.0</td>\n",
       "      <td>2.0</td>\n",
       "      <td>4.0</td>\n",
       "      <td>1.0</td>\n",
       "      <td>59</td>\n",
       "      <td>0</td>\n",
       "      <td>2</td>\n",
       "      <td>1</td>\n",
       "      <td>5</td>\n",
       "      <td>1</td>\n",
       "      <td>-2</td>\n",
       "      <td>L</td>\n",
       "      <td>4</td>\n",
       "      <td>machine</td>\n",
       "    </tr>\n",
       "  </tbody>\n",
       "</table>\n",
       "</div>"
      ],
      "text/plain": [
       "                     AnswerId          FK_ParticipantId  \\\n",
       "0  57bb0ebfd4654c00018e0261T1  57bb0ebfd4654c00018e0261   \n",
       "1  57bb0ebfd4654c00018e0261T2  57bb0ebfd4654c00018e0261   \n",
       "2  57bb0ebfd4654c00018e0261T3  57bb0ebfd4654c00018e0261   \n",
       "3  57bb0ebfd4654c00018e0261T4  57bb0ebfd4654c00018e0261   \n",
       "4  5ab848ffe1546900019b6ec9T1  5ab848ffe1546900019b6ec9   \n",
       "\n",
       "               FK_SessionId  Text1  Text2  AnswerQ1  AnswerQ2  AnswerQ3  \\\n",
       "0  671179cfd13e2cb0dc00fee4  MR749   R749       4.0       5.0       5.0   \n",
       "1  671179cfd13e2cb0dc00fee4   L167  ML167       3.0       3.0       5.0   \n",
       "2  671179cfd13e2cb0dc00fee4  MR050   R050       2.0       5.0       4.0   \n",
       "3  671179cfd13e2cb0dc00fee4  ML633   L633       4.0       4.0       5.0   \n",
       "4  671793db2e378b0de8b1321d   L211  ML211       5.0       2.0       4.0   \n",
       "\n",
       "   AnswerQ4  TimeSpent  TreatedIsPolarized  TreatedLikertValue  \\\n",
       "0       2.0         44                   1                   4   \n",
       "1       3.0         43                  -1                   3   \n",
       "2       2.0         58                   0                   2   \n",
       "3       2.0         64                   1                   4   \n",
       "4       1.0         59                   0                   2   \n",
       "\n",
       "   OriginalIsPolarized  OriginalLikertValue  TreatedIsLessPolar  \\\n",
       "0                    1                    5                   1   \n",
       "1                   -1                    3                   0   \n",
       "2                    1                    5                   1   \n",
       "3                    1                    4                   1   \n",
       "4                    1                    5                   1   \n",
       "\n",
       "   DiffLikertTreatedOriginal TweetBias  ParticipantLeaning TreatmentGroup  \n",
       "0                         -1         R                   4        machine  \n",
       "1                         -2         L                   4        machine  \n",
       "2                         -3         R                   4        machine  \n",
       "3                          0         L                   4        machine  \n",
       "4                         -2         L                   4        machine  "
      ]
     },
     "execution_count": 21,
     "metadata": {},
     "output_type": "execute_result"
    }
   ],
   "source": [
    "survey_data.head()"
   ]
  },
  {
   "cell_type": "code",
   "execution_count": 22,
   "id": "7ff0aaa7-c5b1-4108-a0ad-81834d9174c4",
   "metadata": {
    "execution": {
     "iopub.execute_input": "2024-11-20T16:58:14.521655Z",
     "iopub.status.busy": "2024-11-20T16:58:14.521060Z",
     "iopub.status.idle": "2024-11-20T16:58:14.531759Z",
     "shell.execute_reply": "2024-11-20T16:58:14.530762Z",
     "shell.execute_reply.started": "2024-11-20T16:58:14.521600Z"
    }
   },
   "outputs": [
    {
     "data": {
      "text/plain": [
       "TreatmentGroup\n",
       "placebo    92\n",
       "human      88\n",
       "machine    84\n",
       "Name: count, dtype: int64"
      ]
     },
     "execution_count": 22,
     "metadata": {},
     "output_type": "execute_result"
    }
   ],
   "source": [
    "survey_data['TreatmentGroup'].value_counts()"
   ]
  },
  {
   "cell_type": "code",
   "execution_count": 23,
   "id": "024d2222-3522-407d-b437-c43240f42566",
   "metadata": {
    "execution": {
     "iopub.execute_input": "2024-11-20T16:58:17.902217Z",
     "iopub.status.busy": "2024-11-20T16:58:17.901927Z",
     "iopub.status.idle": "2024-11-20T16:58:17.910451Z",
     "shell.execute_reply": "2024-11-20T16:58:17.909120Z",
     "shell.execute_reply.started": "2024-11-20T16:58:17.902194Z"
    }
   },
   "outputs": [
    {
     "data": {
      "text/plain": [
       "(84, 19)"
      ]
     },
     "execution_count": 23,
     "metadata": {},
     "output_type": "execute_result"
    }
   ],
   "source": [
    "machine_group = survey_data.loc[survey_data['TreatmentGroup']=='machine'].reset_index(drop=True)\n",
    "machine_group.shape"
   ]
  },
  {
   "cell_type": "code",
   "execution_count": 29,
   "id": "8e567fd0-7578-47f3-b1f2-4cec4d51e42f",
   "metadata": {
    "execution": {
     "iopub.execute_input": "2024-11-20T17:58:18.510323Z",
     "iopub.status.busy": "2024-11-20T17:58:18.509948Z",
     "iopub.status.idle": "2024-11-20T17:58:18.517879Z",
     "shell.execute_reply": "2024-11-20T17:58:18.516858Z",
     "shell.execute_reply.started": "2024-11-20T17:58:18.510287Z"
    }
   },
   "outputs": [
    {
     "data": {
      "text/plain": [
       "array([5, 3, 5, 4, 5, 5, 5, 4, 4, 2, 4, 2, 1, 5, 5, 5, 4, 5, 4, 5, 4, 4,\n",
       "       4, 4, 5, 5, 5, 4, 5, 5, 5, 5, 4, 1, 5, 4, 5, 5, 4, 5, 5, 5, 5, 5,\n",
       "       5, 5, 5, 5, 5, 5, 3, 3, 5, 4, 5, 5, 4, 4, 4, 4, 5, 5, 5, 5, 5, 4,\n",
       "       5, 2, 3, 3, 4, 4, 5, 4, 4, 4, 5, 3, 3, 4, 5, 5, 4, 5])"
      ]
     },
     "execution_count": 29,
     "metadata": {},
     "output_type": "execute_result"
    }
   ],
   "source": [
    "original_percep = machine_group['OriginalLikertValue'].values\n",
    "original_percep"
   ]
  },
  {
   "cell_type": "code",
   "execution_count": 31,
   "id": "a3752edf-470e-485d-9a29-38198db86200",
   "metadata": {
    "execution": {
     "iopub.execute_input": "2024-11-20T17:58:33.318751Z",
     "iopub.status.busy": "2024-11-20T17:58:33.318304Z",
     "iopub.status.idle": "2024-11-20T17:58:33.326176Z",
     "shell.execute_reply": "2024-11-20T17:58:33.325253Z",
     "shell.execute_reply.started": "2024-11-20T17:58:33.318703Z"
    }
   },
   "outputs": [
    {
     "data": {
      "text/plain": [
       "array([4, 3, 2, 4, 2, 2, 4, 2, 2, 4, 4, 2, 1, 1, 1, 2, 2, 2, 5, 4, 2, 2,\n",
       "       2, 2, 4, 3, 4, 3, 2, 2, 1, 4, 3, 1, 1, 1, 1, 2, 4, 4, 4, 5, 2, 2,\n",
       "       2, 1, 2, 2, 4, 4, 3, 3, 5, 5, 4, 5, 4, 2, 4, 4, 1, 1, 5, 5, 1, 2,\n",
       "       1, 2, 3, 4, 2, 2, 2, 1, 3, 2, 4, 1, 3, 2, 2, 2, 1, 1])"
      ]
     },
     "execution_count": 31,
     "metadata": {},
     "output_type": "execute_result"
    }
   ],
   "source": [
    "machine_percep = machine_group['TreatedLikertValue'].values\n",
    "machine_percep"
   ]
  },
  {
   "cell_type": "code",
   "execution_count": 32,
   "id": "c392d73c-d83c-4ed8-8839-1af18919ac6b",
   "metadata": {
    "execution": {
     "iopub.execute_input": "2024-11-20T17:58:54.470435Z",
     "iopub.status.busy": "2024-11-20T17:58:54.469480Z",
     "iopub.status.idle": "2024-11-20T17:58:54.475369Z",
     "shell.execute_reply": "2024-11-20T17:58:54.474550Z",
     "shell.execute_reply.started": "2024-11-20T17:58:54.470373Z"
    }
   },
   "outputs": [],
   "source": [
    "machine_percep = sm.add_constant(machine_percep)"
   ]
  },
  {
   "cell_type": "code",
   "execution_count": 34,
   "id": "6800746a-3c87-4195-9970-9d2539e33bec",
   "metadata": {
    "execution": {
     "iopub.execute_input": "2024-11-20T17:59:16.011635Z",
     "iopub.status.busy": "2024-11-20T17:59:16.011214Z",
     "iopub.status.idle": "2024-11-20T17:59:16.038262Z",
     "shell.execute_reply": "2024-11-20T17:59:16.037491Z",
     "shell.execute_reply.started": "2024-11-20T17:59:16.011592Z"
    }
   },
   "outputs": [
    {
     "name": "stdout",
     "output_type": "stream",
     "text": [
      "                            OLS Regression Results                            \n",
      "==============================================================================\n",
      "Dep. Variable:                      y   R-squared:                       0.007\n",
      "Model:                            OLS   Adj. R-squared:                 -0.005\n",
      "Method:                 Least Squares   F-statistic:                    0.6088\n",
      "Date:                Wed, 20 Nov 2024   Prob (F-statistic):              0.437\n",
      "Time:                        14:59:16   Log-Likelihood:                -113.53\n",
      "No. Observations:                  84   AIC:                             231.1\n",
      "Df Residuals:                      82   BIC:                             235.9\n",
      "Df Model:                           1                                         \n",
      "Covariance Type:            nonrobust                                         \n",
      "==============================================================================\n",
      "                 coef    std err          t      P>|t|      [0.025      0.975]\n",
      "------------------------------------------------------------------------------\n",
      "const          4.1427      0.237     17.449      0.000       3.670       4.615\n",
      "x1             0.0634      0.081      0.780      0.437      -0.098       0.225\n",
      "==============================================================================\n",
      "Omnibus:                       30.431   Durbin-Watson:                   1.545\n",
      "Prob(Omnibus):                  0.000   Jarque-Bera (JB):               48.911\n",
      "Skew:                          -1.528   Prob(JB):                     2.39e-11\n",
      "Kurtosis:                       5.153   Cond. No.                         7.37\n",
      "==============================================================================\n",
      "\n",
      "Notes:\n",
      "[1] Standard Errors assume that the covariance matrix of the errors is correctly specified.\n"
     ]
    }
   ],
   "source": [
    "model = sm.OLS(original_percep, machine_percep).fit()\n",
    "print(model.summary())"
   ]
  },
  {
   "cell_type": "code",
   "execution_count": 2,
   "id": "04e9d19d-219b-4254-8027-f58cd6bee9c5",
   "metadata": {
    "execution": {
     "iopub.execute_input": "2024-09-05T12:43:30.593558Z",
     "iopub.status.busy": "2024-09-05T12:43:30.592993Z",
     "iopub.status.idle": "2024-09-05T12:43:30.601213Z",
     "shell.execute_reply": "2024-09-05T12:43:30.599540Z",
     "shell.execute_reply.started": "2024-09-05T12:43:30.593504Z"
    }
   },
   "outputs": [],
   "source": [
    "np.random.seed(0)\n",
    "n = 100\n",
    "X = np.random.rand(n)*10\n",
    "Y = 2.5 * X + np.random.randn(n)"
   ]
  },
  {
   "cell_type": "code",
   "execution_count": 5,
   "id": "ed6cb13a-a68f-433c-97c2-8a94e907c216",
   "metadata": {
    "execution": {
     "iopub.execute_input": "2024-09-05T12:43:57.038818Z",
     "iopub.status.busy": "2024-09-05T12:43:57.038262Z",
     "iopub.status.idle": "2024-09-05T12:43:57.045465Z",
     "shell.execute_reply": "2024-09-05T12:43:57.043980Z",
     "shell.execute_reply.started": "2024-09-05T12:43:57.038768Z"
    }
   },
   "outputs": [],
   "source": [
    "X = sm.add_constant(X)"
   ]
  },
  {
   "cell_type": "code",
   "execution_count": 7,
   "id": "8936b0f2-95f2-44ad-ab5a-28b1c3d43614",
   "metadata": {
    "execution": {
     "iopub.execute_input": "2024-09-05T12:44:20.741969Z",
     "iopub.status.busy": "2024-09-05T12:44:20.741348Z",
     "iopub.status.idle": "2024-09-05T12:44:20.843178Z",
     "shell.execute_reply": "2024-09-05T12:44:20.842388Z",
     "shell.execute_reply.started": "2024-09-05T12:44:20.741907Z"
    }
   },
   "outputs": [],
   "source": [
    "model = sm.OLS(Y, X).fit()"
   ]
  },
  {
   "cell_type": "code",
   "execution_count": 8,
   "id": "befdc046-5cb5-466f-89fc-b559ea14eb5e",
   "metadata": {
    "execution": {
     "iopub.execute_input": "2024-09-05T12:44:31.048165Z",
     "iopub.status.busy": "2024-09-05T12:44:31.046854Z",
     "iopub.status.idle": "2024-09-05T12:44:31.077565Z",
     "shell.execute_reply": "2024-09-05T12:44:31.076106Z",
     "shell.execute_reply.started": "2024-09-05T12:44:31.048102Z"
    }
   },
   "outputs": [
    {
     "name": "stdout",
     "output_type": "stream",
     "text": [
      "                            OLS Regression Results                            \n",
      "==============================================================================\n",
      "Dep. Variable:                      y   R-squared:                       0.981\n",
      "Model:                            OLS   Adj. R-squared:                  0.981\n",
      "Method:                 Least Squares   F-statistic:                     5104.\n",
      "Date:                Thu, 05 Sep 2024   Prob (F-statistic):           2.44e-86\n",
      "Time:                        09:44:31   Log-Likelihood:                -141.51\n",
      "No. Observations:                 100   AIC:                             287.0\n",
      "Df Residuals:                      98   BIC:                             292.2\n",
      "Df Model:                           1                                         \n",
      "Covariance Type:            nonrobust                                         \n",
      "==============================================================================\n",
      "                 coef    std err          t      P>|t|      [0.025      0.975]\n",
      "------------------------------------------------------------------------------\n",
      "const          0.2222      0.193      1.149      0.253      -0.161       0.606\n",
      "x1             2.4937      0.035     71.442      0.000       2.424       2.563\n",
      "==============================================================================\n",
      "Omnibus:                       11.746   Durbin-Watson:                   2.083\n",
      "Prob(Omnibus):                  0.003   Jarque-Bera (JB):                4.097\n",
      "Skew:                           0.138   Prob(JB):                        0.129\n",
      "Kurtosis:                       2.047   Cond. No.                         10.9\n",
      "==============================================================================\n",
      "\n",
      "Notes:\n",
      "[1] Standard Errors assume that the covariance matrix of the errors is correctly specified.\n"
     ]
    }
   ],
   "source": [
    "print(model.summary())"
   ]
  },
  {
   "cell_type": "code",
   "execution_count": null,
   "id": "e6b62acc-017a-42d2-a117-7a4ce6d47c23",
   "metadata": {},
   "outputs": [],
   "source": []
  }
 ],
 "metadata": {
  "kernelspec": {
   "display_name": "Python 3 (ipykernel)",
   "language": "python",
   "name": "python3"
  },
  "language_info": {
   "codemirror_mode": {
    "name": "ipython",
    "version": 3
   },
   "file_extension": ".py",
   "mimetype": "text/x-python",
   "name": "python",
   "nbconvert_exporter": "python",
   "pygments_lexer": "ipython3",
   "version": "3.12.2"
  }
 },
 "nbformat": 4,
 "nbformat_minor": 5
}
