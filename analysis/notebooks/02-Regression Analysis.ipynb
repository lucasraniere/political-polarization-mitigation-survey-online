{
 "cells": [
  {
   "cell_type": "code",
   "execution_count": 1,
   "id": "fa31853f-61fe-42f5-a66e-6cdaa9560a6d",
   "metadata": {
    "execution": {
     "iopub.execute_input": "2024-09-05T12:42:38.411350Z",
     "iopub.status.busy": "2024-09-05T12:42:38.410845Z",
     "iopub.status.idle": "2024-09-05T12:42:39.350286Z",
     "shell.execute_reply": "2024-09-05T12:42:39.349408Z",
     "shell.execute_reply.started": "2024-09-05T12:42:38.411307Z"
    }
   },
   "outputs": [],
   "source": [
    "import numpy as np\n",
    "import pandas as pd\n",
    "import statsmodels.api as sm"
   ]
  },
  {
   "cell_type": "code",
   "execution_count": 2,
   "id": "04e9d19d-219b-4254-8027-f58cd6bee9c5",
   "metadata": {
    "execution": {
     "iopub.execute_input": "2024-09-05T12:43:30.593558Z",
     "iopub.status.busy": "2024-09-05T12:43:30.592993Z",
     "iopub.status.idle": "2024-09-05T12:43:30.601213Z",
     "shell.execute_reply": "2024-09-05T12:43:30.599540Z",
     "shell.execute_reply.started": "2024-09-05T12:43:30.593504Z"
    }
   },
   "outputs": [],
   "source": [
    "np.random.seed(0)\n",
    "n = 100\n",
    "X = np.random.rand(n)*10\n",
    "Y = 2.5 * X + np.random.randn(n)"
   ]
  },
  {
   "cell_type": "code",
   "execution_count": 5,
   "id": "ed6cb13a-a68f-433c-97c2-8a94e907c216",
   "metadata": {
    "execution": {
     "iopub.execute_input": "2024-09-05T12:43:57.038818Z",
     "iopub.status.busy": "2024-09-05T12:43:57.038262Z",
     "iopub.status.idle": "2024-09-05T12:43:57.045465Z",
     "shell.execute_reply": "2024-09-05T12:43:57.043980Z",
     "shell.execute_reply.started": "2024-09-05T12:43:57.038768Z"
    }
   },
   "outputs": [],
   "source": [
    "X = sm.add_constant(X)"
   ]
  },
  {
   "cell_type": "code",
   "execution_count": 7,
   "id": "8936b0f2-95f2-44ad-ab5a-28b1c3d43614",
   "metadata": {
    "execution": {
     "iopub.execute_input": "2024-09-05T12:44:20.741969Z",
     "iopub.status.busy": "2024-09-05T12:44:20.741348Z",
     "iopub.status.idle": "2024-09-05T12:44:20.843178Z",
     "shell.execute_reply": "2024-09-05T12:44:20.842388Z",
     "shell.execute_reply.started": "2024-09-05T12:44:20.741907Z"
    }
   },
   "outputs": [],
   "source": [
    "model = sm.OLS(Y, X).fit()"
   ]
  },
  {
   "cell_type": "code",
   "execution_count": 8,
   "id": "befdc046-5cb5-466f-89fc-b559ea14eb5e",
   "metadata": {
    "execution": {
     "iopub.execute_input": "2024-09-05T12:44:31.048165Z",
     "iopub.status.busy": "2024-09-05T12:44:31.046854Z",
     "iopub.status.idle": "2024-09-05T12:44:31.077565Z",
     "shell.execute_reply": "2024-09-05T12:44:31.076106Z",
     "shell.execute_reply.started": "2024-09-05T12:44:31.048102Z"
    }
   },
   "outputs": [
    {
     "name": "stdout",
     "output_type": "stream",
     "text": [
      "                            OLS Regression Results                            \n",
      "==============================================================================\n",
      "Dep. Variable:                      y   R-squared:                       0.981\n",
      "Model:                            OLS   Adj. R-squared:                  0.981\n",
      "Method:                 Least Squares   F-statistic:                     5104.\n",
      "Date:                Thu, 05 Sep 2024   Prob (F-statistic):           2.44e-86\n",
      "Time:                        09:44:31   Log-Likelihood:                -141.51\n",
      "No. Observations:                 100   AIC:                             287.0\n",
      "Df Residuals:                      98   BIC:                             292.2\n",
      "Df Model:                           1                                         \n",
      "Covariance Type:            nonrobust                                         \n",
      "==============================================================================\n",
      "                 coef    std err          t      P>|t|      [0.025      0.975]\n",
      "------------------------------------------------------------------------------\n",
      "const          0.2222      0.193      1.149      0.253      -0.161       0.606\n",
      "x1             2.4937      0.035     71.442      0.000       2.424       2.563\n",
      "==============================================================================\n",
      "Omnibus:                       11.746   Durbin-Watson:                   2.083\n",
      "Prob(Omnibus):                  0.003   Jarque-Bera (JB):                4.097\n",
      "Skew:                           0.138   Prob(JB):                        0.129\n",
      "Kurtosis:                       2.047   Cond. No.                         10.9\n",
      "==============================================================================\n",
      "\n",
      "Notes:\n",
      "[1] Standard Errors assume that the covariance matrix of the errors is correctly specified.\n"
     ]
    }
   ],
   "source": [
    "print(model.summary())"
   ]
  },
  {
   "cell_type": "code",
   "execution_count": null,
   "id": "e6b62acc-017a-42d2-a117-7a4ce6d47c23",
   "metadata": {},
   "outputs": [],
   "source": []
  }
 ],
 "metadata": {
  "kernelspec": {
   "display_name": "Python 3 (ipykernel)",
   "language": "python",
   "name": "python3"
  },
  "language_info": {
   "codemirror_mode": {
    "name": "ipython",
    "version": 3
   },
   "file_extension": ".py",
   "mimetype": "text/x-python",
   "name": "python",
   "nbconvert_exporter": "python",
   "pygments_lexer": "ipython3",
   "version": "3.12.2"
  }
 },
 "nbformat": 4,
 "nbformat_minor": 5
}
