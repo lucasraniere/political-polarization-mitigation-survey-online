{
 "cells": [
  {
   "cell_type": "code",
   "execution_count": 2,
   "id": "fa6dc996-e787-408e-975a-a4d65f945996",
   "metadata": {
    "execution": {
     "iopub.execute_input": "2024-08-14T20:08:57.639362Z",
     "iopub.status.busy": "2024-08-14T20:08:57.638994Z",
     "iopub.status.idle": "2024-08-14T20:08:57.643414Z",
     "shell.execute_reply": "2024-08-14T20:08:57.642491Z",
     "shell.execute_reply.started": "2024-08-14T20:08:57.639330Z"
    }
   },
   "outputs": [],
   "source": [
    "import os\n",
    "import pandas as pd\n",
    "\n",
    "DATA_PATH = '../../backend/data/database/'"
   ]
  },
  {
   "cell_type": "code",
   "execution_count": 5,
   "id": "1bab8fd0-9246-44d7-8f7c-caa1499ba098",
   "metadata": {
    "execution": {
     "iopub.execute_input": "2024-08-14T20:09:59.627243Z",
     "iopub.status.busy": "2024-08-14T20:09:59.626748Z",
     "iopub.status.idle": "2024-08-14T20:09:59.700637Z",
     "shell.execute_reply": "2024-08-14T20:09:59.698291Z",
     "shell.execute_reply.started": "2024-08-14T20:09:59.627196Z"
    }
   },
   "outputs": [
    {
     "data": {
      "text/plain": [
       "(21, 8)"
      ]
     },
     "execution_count": 5,
     "metadata": {},
     "output_type": "execute_result"
    }
   ],
   "source": [
    "participants_df = pd.read_parquet(os.path.join(DATA_PATH, 'participants.parquet'))\n",
    "participants_df.shape"
   ]
  },
  {
   "cell_type": "code",
   "execution_count": 6,
   "id": "502cfc79-9050-413c-b88f-1eabafd828d6",
   "metadata": {
    "execution": {
     "iopub.execute_input": "2024-08-14T20:10:08.086927Z",
     "iopub.status.busy": "2024-08-14T20:10:08.086621Z",
     "iopub.status.idle": "2024-08-14T20:10:08.105175Z",
     "shell.execute_reply": "2024-08-14T20:10:08.103801Z",
     "shell.execute_reply.started": "2024-08-14T20:10:08.086904Z"
    }
   },
   "outputs": [
    {
     "data": {
      "text/html": [
       "<div>\n",
       "<style scoped>\n",
       "    .dataframe tbody tr th:only-of-type {\n",
       "        vertical-align: middle;\n",
       "    }\n",
       "\n",
       "    .dataframe tbody tr th {\n",
       "        vertical-align: top;\n",
       "    }\n",
       "\n",
       "    .dataframe thead th {\n",
       "        text-align: right;\n",
       "    }\n",
       "</style>\n",
       "<table border=\"1\" class=\"dataframe\">\n",
       "  <thead>\n",
       "    <tr style=\"text-align: right;\">\n",
       "      <th></th>\n",
       "      <th>ParticipantId</th>\n",
       "      <th>TreatmentGroup</th>\n",
       "      <th>PoliticalLeaning</th>\n",
       "      <th>Tweet1</th>\n",
       "      <th>Tweet2</th>\n",
       "      <th>Tweet3</th>\n",
       "      <th>Tweet4</th>\n",
       "      <th>ParticipantStatus</th>\n",
       "    </tr>\n",
       "  </thead>\n",
       "  <tbody>\n",
       "    <tr>\n",
       "      <th>16</th>\n",
       "      <td>63a811e855cc11efbda2803f</td>\n",
       "      <td>placebo</td>\n",
       "      <td>4</td>\n",
       "      <td>R066</td>\n",
       "      <td>R085</td>\n",
       "      <td>L063</td>\n",
       "      <td>L060</td>\n",
       "      <td>finished</td>\n",
       "    </tr>\n",
       "    <tr>\n",
       "      <th>17</th>\n",
       "      <td>asdkaskdhjk12312312</td>\n",
       "      <td>machine</td>\n",
       "      <td>4</td>\n",
       "      <td>R042</td>\n",
       "      <td>L052</td>\n",
       "      <td>L046</td>\n",
       "      <td>R048</td>\n",
       "      <td>finished</td>\n",
       "    </tr>\n",
       "    <tr>\n",
       "      <th>13</th>\n",
       "      <td>63a80e0a55cc11efbda2803f</td>\n",
       "      <td>human</td>\n",
       "      <td>2</td>\n",
       "      <td>L018</td>\n",
       "      <td>L001</td>\n",
       "      <td>R019</td>\n",
       "      <td>R011</td>\n",
       "      <td>finished</td>\n",
       "    </tr>\n",
       "    <tr>\n",
       "      <th>0</th>\n",
       "      <td>63a8082455cc11efbda2803f</td>\n",
       "      <td>human</td>\n",
       "      <td>1</td>\n",
       "      <td>L008</td>\n",
       "      <td>R009</td>\n",
       "      <td>L006</td>\n",
       "      <td>R026</td>\n",
       "      <td>finished</td>\n",
       "    </tr>\n",
       "    <tr>\n",
       "      <th>3</th>\n",
       "      <td>63a80aae55cc11efbda2803f</td>\n",
       "      <td>machine</td>\n",
       "      <td>6</td>\n",
       "      <td>R062</td>\n",
       "      <td>L053</td>\n",
       "      <td>R051</td>\n",
       "      <td>L028</td>\n",
       "      <td>finished</td>\n",
       "    </tr>\n",
       "    <tr>\n",
       "      <th>12</th>\n",
       "      <td>63a80db055cc11efbda2803f</td>\n",
       "      <td>placebo</td>\n",
       "      <td>3</td>\n",
       "      <td>R075</td>\n",
       "      <td>L088</td>\n",
       "      <td>R082</td>\n",
       "      <td>L074</td>\n",
       "      <td>finished</td>\n",
       "    </tr>\n",
       "    <tr>\n",
       "      <th>4</th>\n",
       "      <td>63a80b1255cc11efbda2803f</td>\n",
       "      <td>human</td>\n",
       "      <td>7</td>\n",
       "      <td>R013</td>\n",
       "      <td>R015</td>\n",
       "      <td>L002</td>\n",
       "      <td>L017</td>\n",
       "      <td>finished</td>\n",
       "    </tr>\n",
       "    <tr>\n",
       "      <th>2</th>\n",
       "      <td>63a809fa55cc11efbda2803f</td>\n",
       "      <td>placebo</td>\n",
       "      <td>3</td>\n",
       "      <td>R086</td>\n",
       "      <td>R065</td>\n",
       "      <td>L059</td>\n",
       "      <td>L061</td>\n",
       "      <td>finished</td>\n",
       "    </tr>\n",
       "    <tr>\n",
       "      <th>11</th>\n",
       "      <td>63a80d4c55cc11efbda2803f</td>\n",
       "      <td>human</td>\n",
       "      <td>4</td>\n",
       "      <td>L016</td>\n",
       "      <td>R030</td>\n",
       "      <td>L004</td>\n",
       "      <td>R023</td>\n",
       "      <td>finished</td>\n",
       "    </tr>\n",
       "    <tr>\n",
       "      <th>19</th>\n",
       "      <td>TestingLoadingP</td>\n",
       "      <td>machine</td>\n",
       "      <td>4</td>\n",
       "      <td>R058</td>\n",
       "      <td>L032</td>\n",
       "      <td>L045</td>\n",
       "      <td>R038</td>\n",
       "      <td>finished</td>\n",
       "    </tr>\n",
       "  </tbody>\n",
       "</table>\n",
       "</div>"
      ],
      "text/plain": [
       "               ParticipantId TreatmentGroup  PoliticalLeaning Tweet1 Tweet2  \\\n",
       "16  63a811e855cc11efbda2803f        placebo                 4   R066   R085   \n",
       "17       asdkaskdhjk12312312        machine                 4   R042   L052   \n",
       "13  63a80e0a55cc11efbda2803f          human                 2   L018   L001   \n",
       "0   63a8082455cc11efbda2803f          human                 1   L008   R009   \n",
       "3   63a80aae55cc11efbda2803f        machine                 6   R062   L053   \n",
       "12  63a80db055cc11efbda2803f        placebo                 3   R075   L088   \n",
       "4   63a80b1255cc11efbda2803f          human                 7   R013   R015   \n",
       "2   63a809fa55cc11efbda2803f        placebo                 3   R086   R065   \n",
       "11  63a80d4c55cc11efbda2803f          human                 4   L016   R030   \n",
       "19           TestingLoadingP        machine                 4   R058   L032   \n",
       "\n",
       "   Tweet3 Tweet4 ParticipantStatus  \n",
       "16   L063   L060          finished  \n",
       "17   L046   R048          finished  \n",
       "13   R019   R011          finished  \n",
       "0    L006   R026          finished  \n",
       "3    R051   L028          finished  \n",
       "12   R082   L074          finished  \n",
       "4    L002   L017          finished  \n",
       "2    L059   L061          finished  \n",
       "11   L004   R023          finished  \n",
       "19   L045   R038          finished  "
      ]
     },
     "execution_count": 6,
     "metadata": {},
     "output_type": "execute_result"
    }
   ],
   "source": [
    "participants_df.sample(10)"
   ]
  },
  {
   "cell_type": "code",
   "execution_count": 14,
   "id": "8cd11a17-e427-451e-93d7-e6b31c72517b",
   "metadata": {
    "execution": {
     "iopub.execute_input": "2024-08-14T20:13:24.759329Z",
     "iopub.status.busy": "2024-08-14T20:13:24.758568Z",
     "iopub.status.idle": "2024-08-14T20:13:24.999503Z",
     "shell.execute_reply": "2024-08-14T20:13:24.998756Z",
     "shell.execute_reply.started": "2024-08-14T20:13:24.759277Z"
    }
   },
   "outputs": [
    {
     "data": {
      "text/plain": [
       "<Axes: xlabel='PoliticalLeaning'>"
      ]
     },
     "execution_count": 14,
     "metadata": {},
     "output_type": "execute_result"
    },
    {
     "data": {
      "image/png": "[encoded data removed]",
      "text/plain": [
       "<Figure size 640x480 with 1 Axes>"
      ]
     },
     "metadata": {},
     "output_type": "display_data"
    }
   ],
   "source": [
    "participants_df['PoliticalLeaning'].value_counts().plot.bar()"
   ]
  },
  {
   "cell_type": "code",
   "execution_count": null,
   "id": "cf83871b-2947-429d-aa73-d8a8f0a4f377",
   "metadata": {},
   "outputs": [],
   "source": []
  }
 ],
 "metadata": {
  "kernelspec": {
   "display_name": "Python 3 (ipykernel)",
   "language": "python",
   "name": "python3"
  },
  "language_info": {
   "codemirror_mode": {
    "name": "ipython",
    "version": 3
   },
   "file_extension": ".py",
   "mimetype": "text/x-python",
   "name": "python",
   "nbconvert_exporter": "python",
   "pygments_lexer": "ipython3",
   "version": "3.12.2"
  }
 },
 "nbformat": 4,
 "nbformat_minor": 5
}
