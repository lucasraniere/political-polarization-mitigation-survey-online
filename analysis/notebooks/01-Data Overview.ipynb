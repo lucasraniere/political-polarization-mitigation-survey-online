{
 "cells": [
  {
   "cell_type": "code",
   "execution_count": 2,
   "id": "fa6dc996-e787-408e-975a-a4d65f945996",
   "metadata": {
    "execution": {
     "iopub.execute_input": "2024-09-05T13:27:47.778299Z",
     "iopub.status.busy": "2024-09-05T13:27:47.777104Z",
     "iopub.status.idle": "2024-09-05T13:27:47.783469Z",
     "shell.execute_reply": "2024-09-05T13:27:47.782266Z",
     "shell.execute_reply.started": "2024-09-05T13:27:47.778243Z"
    }
   },
   "outputs": [],
   "source": [
    "import os\n",
    "import pandas as pd\n",
    "\n",
    "DATA_PATH = '../../backend/data/database/'"
   ]
  },
  {
   "cell_type": "code",
   "execution_count": 3,
   "id": "1bab8fd0-9246-44d7-8f7c-caa1499ba098",
   "metadata": {
    "execution": {
     "iopub.execute_input": "2024-09-05T13:27:48.073718Z",
     "iopub.status.busy": "2024-09-05T13:27:48.072605Z",
     "iopub.status.idle": "2024-09-05T13:27:48.225288Z",
     "shell.execute_reply": "2024-09-05T13:27:48.224421Z",
     "shell.execute_reply.started": "2024-09-05T13:27:48.073654Z"
    }
   },
   "outputs": [
    {
     "data": {
      "text/plain": [
       "(21, 8)"
      ]
     },
     "execution_count": 3,
     "metadata": {},
     "output_type": "execute_result"
    }
   ],
   "source": [
    "participants_df = pd.read_parquet(os.path.join(DATA_PATH, 'participants.parquet'))\n",
    "participants_df.shape"
   ]
  },
  {
   "cell_type": "code",
   "execution_count": 4,
   "id": "502cfc79-9050-413c-b88f-1eabafd828d6",
   "metadata": {
    "execution": {
     "iopub.execute_input": "2024-09-05T13:27:48.354703Z",
     "iopub.status.busy": "2024-09-05T13:27:48.354302Z",
     "iopub.status.idle": "2024-09-05T13:27:48.380279Z",
     "shell.execute_reply": "2024-09-05T13:27:48.379512Z",
     "shell.execute_reply.started": "2024-09-05T13:27:48.354667Z"
    }
   },
   "outputs": [
    {
     "data": {
      "text/html": [
       "<div>\n",
       "<style scoped>\n",
       "    .dataframe tbody tr th:only-of-type {\n",
       "        vertical-align: middle;\n",
       "    }\n",
       "\n",
       "    .dataframe tbody tr th {\n",
       "        vertical-align: top;\n",
       "    }\n",
       "\n",
       "    .dataframe thead th {\n",
       "        text-align: right;\n",
       "    }\n",
       "</style>\n",
       "<table border=\"1\" class=\"dataframe\">\n",
       "  <thead>\n",
       "    <tr style=\"text-align: right;\">\n",
       "      <th></th>\n",
       "      <th>ParticipantId</th>\n",
       "      <th>TreatmentGroup</th>\n",
       "      <th>PoliticalLeaning</th>\n",
       "      <th>Tweet1</th>\n",
       "      <th>Tweet2</th>\n",
       "      <th>Tweet3</th>\n",
       "      <th>Tweet4</th>\n",
       "      <th>ParticipantStatus</th>\n",
       "    </tr>\n",
       "  </thead>\n",
       "  <tbody>\n",
       "    <tr>\n",
       "      <th>12</th>\n",
       "      <td>63a80db055cc11efbda2803f</td>\n",
       "      <td>placebo</td>\n",
       "      <td>3</td>\n",
       "      <td>R075</td>\n",
       "      <td>L088</td>\n",
       "      <td>R082</td>\n",
       "      <td>L074</td>\n",
       "      <td>finished</td>\n",
       "    </tr>\n",
       "    <tr>\n",
       "      <th>17</th>\n",
       "      <td>asdkaskdhjk12312312</td>\n",
       "      <td>machine</td>\n",
       "      <td>4</td>\n",
       "      <td>R042</td>\n",
       "      <td>L052</td>\n",
       "      <td>L046</td>\n",
       "      <td>R048</td>\n",
       "      <td>finished</td>\n",
       "    </tr>\n",
       "    <tr>\n",
       "      <th>16</th>\n",
       "      <td>63a811e855cc11efbda2803f</td>\n",
       "      <td>placebo</td>\n",
       "      <td>4</td>\n",
       "      <td>R066</td>\n",
       "      <td>R085</td>\n",
       "      <td>L063</td>\n",
       "      <td>L060</td>\n",
       "      <td>finished</td>\n",
       "    </tr>\n",
       "    <tr>\n",
       "      <th>3</th>\n",
       "      <td>63a80aae55cc11efbda2803f</td>\n",
       "      <td>machine</td>\n",
       "      <td>6</td>\n",
       "      <td>R062</td>\n",
       "      <td>L053</td>\n",
       "      <td>R051</td>\n",
       "      <td>L028</td>\n",
       "      <td>finished</td>\n",
       "    </tr>\n",
       "    <tr>\n",
       "      <th>5</th>\n",
       "      <td>63a80b6c55cc11efbda2803f</td>\n",
       "      <td>machine</td>\n",
       "      <td>4</td>\n",
       "      <td>R036</td>\n",
       "      <td>L055</td>\n",
       "      <td>R043</td>\n",
       "      <td>L041</td>\n",
       "      <td>finished</td>\n",
       "    </tr>\n",
       "    <tr>\n",
       "      <th>6</th>\n",
       "      <td>63a80bb255cc11efbda2803f</td>\n",
       "      <td>machine</td>\n",
       "      <td>4</td>\n",
       "      <td>R049</td>\n",
       "      <td>L044</td>\n",
       "      <td>L033</td>\n",
       "      <td>R047</td>\n",
       "      <td>finished</td>\n",
       "    </tr>\n",
       "    <tr>\n",
       "      <th>0</th>\n",
       "      <td>63a8082455cc11efbda2803f</td>\n",
       "      <td>human</td>\n",
       "      <td>1</td>\n",
       "      <td>L008</td>\n",
       "      <td>R009</td>\n",
       "      <td>L006</td>\n",
       "      <td>R026</td>\n",
       "      <td>finished</td>\n",
       "    </tr>\n",
       "    <tr>\n",
       "      <th>15</th>\n",
       "      <td>63a80f0e55cc11efbda2803f</td>\n",
       "      <td>machine</td>\n",
       "      <td>4</td>\n",
       "      <td>R054</td>\n",
       "      <td>R057</td>\n",
       "      <td>L039</td>\n",
       "      <td>L040</td>\n",
       "      <td>finished</td>\n",
       "    </tr>\n",
       "    <tr>\n",
       "      <th>8</th>\n",
       "      <td>63a80c4855cc11efbda2803f</td>\n",
       "      <td>placebo</td>\n",
       "      <td>5</td>\n",
       "      <td>L076</td>\n",
       "      <td>R080</td>\n",
       "      <td>R072</td>\n",
       "      <td>L089</td>\n",
       "      <td>finished</td>\n",
       "    </tr>\n",
       "    <tr>\n",
       "      <th>10</th>\n",
       "      <td>63a80cf255cc11efbda2803f</td>\n",
       "      <td>placebo</td>\n",
       "      <td>5</td>\n",
       "      <td>R087</td>\n",
       "      <td>R067</td>\n",
       "      <td>L078</td>\n",
       "      <td>L084</td>\n",
       "      <td>finished</td>\n",
       "    </tr>\n",
       "  </tbody>\n",
       "</table>\n",
       "</div>"
      ],
      "text/plain": [
       "               ParticipantId TreatmentGroup  PoliticalLeaning Tweet1 Tweet2  \\\n",
       "12  63a80db055cc11efbda2803f        placebo                 3   R075   L088   \n",
       "17       asdkaskdhjk12312312        machine                 4   R042   L052   \n",
       "16  63a811e855cc11efbda2803f        placebo                 4   R066   R085   \n",
       "3   63a80aae55cc11efbda2803f        machine                 6   R062   L053   \n",
       "5   63a80b6c55cc11efbda2803f        machine                 4   R036   L055   \n",
       "6   63a80bb255cc11efbda2803f        machine                 4   R049   L044   \n",
       "0   63a8082455cc11efbda2803f          human                 1   L008   R009   \n",
       "15  63a80f0e55cc11efbda2803f        machine                 4   R054   R057   \n",
       "8   63a80c4855cc11efbda2803f        placebo                 5   L076   R080   \n",
       "10  63a80cf255cc11efbda2803f        placebo                 5   R087   R067   \n",
       "\n",
       "   Tweet3 Tweet4 ParticipantStatus  \n",
       "12   R082   L074          finished  \n",
       "17   L046   R048          finished  \n",
       "16   L063   L060          finished  \n",
       "3    R051   L028          finished  \n",
       "5    R043   L041          finished  \n",
       "6    L033   R047          finished  \n",
       "0    L006   R026          finished  \n",
       "15   L039   L040          finished  \n",
       "8    R072   L089          finished  \n",
       "10   L078   L084          finished  "
      ]
     },
     "execution_count": 4,
     "metadata": {},
     "output_type": "execute_result"
    }
   ],
   "source": [
    "participants_df.sample(10)"
   ]
  },
  {
   "cell_type": "code",
   "execution_count": 5,
   "id": "8cd11a17-e427-451e-93d7-e6b31c72517b",
   "metadata": {
    "execution": {
     "iopub.execute_input": "2024-09-05T13:27:48.870834Z",
     "iopub.status.busy": "2024-09-05T13:27:48.870296Z",
     "iopub.status.idle": "2024-09-05T13:27:49.543831Z",
     "shell.execute_reply": "2024-09-05T13:27:49.542745Z",
     "shell.execute_reply.started": "2024-09-05T13:27:48.870792Z"
    }
   },
   "outputs": [
    {
     "data": {
      "text/plain": [
       "<Axes: xlabel='PoliticalLeaning'>"
      ]
     },
     "execution_count": 5,
     "metadata": {},
     "output_type": "execute_result"
    },
    {
     "data": {
      "image/png": "[encoded data removed]",
      "text/plain": [
       "<Figure size 640x480 with 1 Axes>"
      ]
     },
     "metadata": {},
     "output_type": "display_data"
    }
   ],
   "source": [
    "participants_df['PoliticalLeaning'].value_counts().plot.bar()"
   ]
  },
  {
   "cell_type": "code",
   "execution_count": 6,
   "id": "cf83871b-2947-429d-aa73-d8a8f0a4f377",
   "metadata": {
    "execution": {
     "iopub.execute_input": "2024-09-05T13:27:49.556742Z",
     "iopub.status.busy": "2024-09-05T13:27:49.556373Z",
     "iopub.status.idle": "2024-09-05T13:27:49.692001Z",
     "shell.execute_reply": "2024-09-05T13:27:49.691177Z",
     "shell.execute_reply.started": "2024-09-05T13:27:49.556705Z"
    }
   },
   "outputs": [
    {
     "data": {
      "text/plain": [
       "<Axes: xlabel='TreatmentGroup'>"
      ]
     },
     "execution_count": 6,
     "metadata": {},
     "output_type": "execute_result"
    },
    {
     "data": {
      "image/png": "[encoded data removed]",
      "text/plain": [
       "<Figure size 640x480 with 1 Axes>"
      ]
     },
     "metadata": {},
     "output_type": "display_data"
    }
   ],
   "source": [
    "participants_df['TreatmentGroup'].value_counts().plot.bar()"
   ]
  },
  {
   "cell_type": "code",
   "execution_count": 7,
   "id": "06b63434-d6c4-46ff-b032-a891bac94ce6",
   "metadata": {
    "execution": {
     "iopub.execute_input": "2024-09-05T13:28:45.103418Z",
     "iopub.status.busy": "2024-09-05T13:28:45.102765Z",
     "iopub.status.idle": "2024-09-05T13:28:45.191660Z",
     "shell.execute_reply": "2024-09-05T13:28:45.190518Z",
     "shell.execute_reply.started": "2024-09-05T13:28:45.103357Z"
    }
   },
   "outputs": [
    {
     "data": {
      "text/plain": [
       "(84, 10)"
      ]
     },
     "execution_count": 7,
     "metadata": {},
     "output_type": "execute_result"
    }
   ],
   "source": [
    "answers_df = pd.read_parquet(os.path.join(DATA_PATH, 'answers.parquet'))\n",
    "answers_df.shape"
   ]
  },
  {
   "cell_type": "code",
   "execution_count": 8,
   "id": "582b5cca-44cc-4eb6-b17e-a09739404e10",
   "metadata": {
    "execution": {
     "iopub.execute_input": "2024-09-05T13:28:55.468485Z",
     "iopub.status.busy": "2024-09-05T13:28:55.467065Z",
     "iopub.status.idle": "2024-09-05T13:28:55.499083Z",
     "shell.execute_reply": "2024-09-05T13:28:55.497883Z",
     "shell.execute_reply.started": "2024-09-05T13:28:55.468406Z"
    }
   },
   "outputs": [
    {
     "data": {
      "text/html": [
       "<div>\n",
       "<style scoped>\n",
       "    .dataframe tbody tr th:only-of-type {\n",
       "        vertical-align: middle;\n",
       "    }\n",
       "\n",
       "    .dataframe tbody tr th {\n",
       "        vertical-align: top;\n",
       "    }\n",
       "\n",
       "    .dataframe thead th {\n",
       "        text-align: right;\n",
       "    }\n",
       "</style>\n",
       "<table border=\"1\" class=\"dataframe\">\n",
       "  <thead>\n",
       "    <tr style=\"text-align: right;\">\n",
       "      <th></th>\n",
       "      <th>AnswerId</th>\n",
       "      <th>FK_ParticipantId</th>\n",
       "      <th>FK_SessionId</th>\n",
       "      <th>Text1</th>\n",
       "      <th>Text2</th>\n",
       "      <th>AnswerQ1</th>\n",
       "      <th>AnswerQ2</th>\n",
       "      <th>AnswerQ3</th>\n",
       "      <th>AnswerQ4</th>\n",
       "      <th>TimeSpent</th>\n",
       "    </tr>\n",
       "  </thead>\n",
       "  <tbody>\n",
       "    <tr>\n",
       "      <th>79</th>\n",
       "      <td>TestingLoadingP2T4</td>\n",
       "      <td>TestingLoadingP2</td>\n",
       "      <td>TestingLoadingS2</td>\n",
       "      <td>PR069</td>\n",
       "      <td>R069</td>\n",
       "      <td>5</td>\n",
       "      <td>5</td>\n",
       "      <td>5</td>\n",
       "      <td>3</td>\n",
       "      <td>6</td>\n",
       "    </tr>\n",
       "    <tr>\n",
       "      <th>62</th>\n",
       "      <td>63a80f0e55cc11efbda2803fT3</td>\n",
       "      <td>63a80f0e55cc11efbda2803f</td>\n",
       "      <td>63a80f3655cc11efbda2803f</td>\n",
       "      <td>L039</td>\n",
       "      <td>ML039</td>\n",
       "      <td>5</td>\n",
       "      <td>3</td>\n",
       "      <td>4</td>\n",
       "      <td>1</td>\n",
       "      <td>10</td>\n",
       "    </tr>\n",
       "    <tr>\n",
       "      <th>56</th>\n",
       "      <td>63a80e4655cc11efbda2803fT1</td>\n",
       "      <td>63a80e4655cc11efbda2803f</td>\n",
       "      <td>63a80e7855cc11efbda2803f</td>\n",
       "      <td>L014</td>\n",
       "      <td>HL014</td>\n",
       "      <td>4</td>\n",
       "      <td>2</td>\n",
       "      <td>4</td>\n",
       "      <td>1</td>\n",
       "      <td>344</td>\n",
       "    </tr>\n",
       "    <tr>\n",
       "      <th>51</th>\n",
       "      <td>63a80db055cc11efbda2803fT4</td>\n",
       "      <td>63a80db055cc11efbda2803f</td>\n",
       "      <td>63a80dd855cc11efbda2803f</td>\n",
       "      <td>PL074</td>\n",
       "      <td>L074</td>\n",
       "      <td>2</td>\n",
       "      <td>4</td>\n",
       "      <td>4</td>\n",
       "      <td>2</td>\n",
       "      <td>11</td>\n",
       "    </tr>\n",
       "    <tr>\n",
       "      <th>3</th>\n",
       "      <td>63a8082455cc11efbda2803fT4</td>\n",
       "      <td>63a8082455cc11efbda2803f</td>\n",
       "      <td>63a8091455cc11efbda2803f</td>\n",
       "      <td>HR026</td>\n",
       "      <td>R026</td>\n",
       "      <td>1</td>\n",
       "      <td>1</td>\n",
       "      <td>1</td>\n",
       "      <td>1</td>\n",
       "      <td>82</td>\n",
       "    </tr>\n",
       "    <tr>\n",
       "      <th>7</th>\n",
       "      <td>63a8097855cc11efbda2803fT4</td>\n",
       "      <td>63a8097855cc11efbda2803f</td>\n",
       "      <td>63a809b455cc11efbda2803f</td>\n",
       "      <td>HL020</td>\n",
       "      <td>L020</td>\n",
       "      <td>2</td>\n",
       "      <td>5</td>\n",
       "      <td>4</td>\n",
       "      <td>2</td>\n",
       "      <td>58</td>\n",
       "    </tr>\n",
       "    <tr>\n",
       "      <th>59</th>\n",
       "      <td>63a80e4655cc11efbda2803fT4</td>\n",
       "      <td>63a80e4655cc11efbda2803f</td>\n",
       "      <td>63a80e7855cc11efbda2803f</td>\n",
       "      <td>R005</td>\n",
       "      <td>HR005</td>\n",
       "      <td>4</td>\n",
       "      <td>3</td>\n",
       "      <td>4</td>\n",
       "      <td>4</td>\n",
       "      <td>80</td>\n",
       "    </tr>\n",
       "    <tr>\n",
       "      <th>68</th>\n",
       "      <td>asdkaskdhjk12312312T1</td>\n",
       "      <td>asdkaskdhjk12312312</td>\n",
       "      <td>asdaskjdk1231231</td>\n",
       "      <td>MR042</td>\n",
       "      <td>R042</td>\n",
       "      <td>5</td>\n",
       "      <td>5</td>\n",
       "      <td>4</td>\n",
       "      <td>3</td>\n",
       "      <td>6</td>\n",
       "    </tr>\n",
       "    <tr>\n",
       "      <th>48</th>\n",
       "      <td>63a80db055cc11efbda2803fT1</td>\n",
       "      <td>63a80db055cc11efbda2803f</td>\n",
       "      <td>63a80dd855cc11efbda2803f</td>\n",
       "      <td>PR075</td>\n",
       "      <td>R075</td>\n",
       "      <td>2</td>\n",
       "      <td>4</td>\n",
       "      <td>5</td>\n",
       "      <td>2</td>\n",
       "      <td>500</td>\n",
       "    </tr>\n",
       "    <tr>\n",
       "      <th>5</th>\n",
       "      <td>63a8097855cc11efbda2803fT2</td>\n",
       "      <td>63a8097855cc11efbda2803f</td>\n",
       "      <td>63a809b455cc11efbda2803f</td>\n",
       "      <td>HR025</td>\n",
       "      <td>R025</td>\n",
       "      <td>2</td>\n",
       "      <td>5</td>\n",
       "      <td>4</td>\n",
       "      <td>1</td>\n",
       "      <td>714</td>\n",
       "    </tr>\n",
       "  </tbody>\n",
       "</table>\n",
       "</div>"
      ],
      "text/plain": [
       "                      AnswerId          FK_ParticipantId  \\\n",
       "79          TestingLoadingP2T4          TestingLoadingP2   \n",
       "62  63a80f0e55cc11efbda2803fT3  63a80f0e55cc11efbda2803f   \n",
       "56  63a80e4655cc11efbda2803fT1  63a80e4655cc11efbda2803f   \n",
       "51  63a80db055cc11efbda2803fT4  63a80db055cc11efbda2803f   \n",
       "3   63a8082455cc11efbda2803fT4  63a8082455cc11efbda2803f   \n",
       "7   63a8097855cc11efbda2803fT4  63a8097855cc11efbda2803f   \n",
       "59  63a80e4655cc11efbda2803fT4  63a80e4655cc11efbda2803f   \n",
       "68       asdkaskdhjk12312312T1       asdkaskdhjk12312312   \n",
       "48  63a80db055cc11efbda2803fT1  63a80db055cc11efbda2803f   \n",
       "5   63a8097855cc11efbda2803fT2  63a8097855cc11efbda2803f   \n",
       "\n",
       "                FK_SessionId  Text1  Text2  AnswerQ1  AnswerQ2  AnswerQ3  \\\n",
       "79          TestingLoadingS2  PR069   R069         5         5         5   \n",
       "62  63a80f3655cc11efbda2803f   L039  ML039         5         3         4   \n",
       "56  63a80e7855cc11efbda2803f   L014  HL014         4         2         4   \n",
       "51  63a80dd855cc11efbda2803f  PL074   L074         2         4         4   \n",
       "3   63a8091455cc11efbda2803f  HR026   R026         1         1         1   \n",
       "7   63a809b455cc11efbda2803f  HL020   L020         2         5         4   \n",
       "59  63a80e7855cc11efbda2803f   R005  HR005         4         3         4   \n",
       "68          asdaskjdk1231231  MR042   R042         5         5         4   \n",
       "48  63a80dd855cc11efbda2803f  PR075   R075         2         4         5   \n",
       "5   63a809b455cc11efbda2803f  HR025   R025         2         5         4   \n",
       "\n",
       "    AnswerQ4  TimeSpent  \n",
       "79         3          6  \n",
       "62         1         10  \n",
       "56         1        344  \n",
       "51         2         11  \n",
       "3          1         82  \n",
       "7          2         58  \n",
       "59         4         80  \n",
       "68         3          6  \n",
       "48         2        500  \n",
       "5          1        714  "
      ]
     },
     "execution_count": 8,
     "metadata": {},
     "output_type": "execute_result"
    }
   ],
   "source": [
    "answers_df.sample(10)"
   ]
  },
  {
   "cell_type": "code",
   "execution_count": 28,
   "id": "ac56cb8f-c35a-4fa6-bbd1-35a6a535e3e4",
   "metadata": {
    "execution": {
     "iopub.execute_input": "2024-09-05T15:03:28.255971Z",
     "iopub.status.busy": "2024-09-05T15:03:28.255179Z",
     "iopub.status.idle": "2024-09-05T15:03:28.262544Z",
     "shell.execute_reply": "2024-09-05T15:03:28.261412Z",
     "shell.execute_reply.started": "2024-09-05T15:03:28.255913Z"
    }
   },
   "outputs": [],
   "source": [
    "def check_most_pol_tweet(value):\n",
    "    value_ = value\n",
    "    if (value == 3 or value == 4):\n",
    "        value_ = 0\n",
    "    return value_\n",
    "\n",
    "\n",
    "def get_participant_leaning(id):\n",
    "    leaning = participants_df.loc[participants_df['ParticipantId']==id]['PoliticalLeaning']\n",
    "    return leaning.values[0]"
   ]
  },
  {
   "cell_type": "code",
   "execution_count": 29,
   "id": "d8d3b8be-50b6-4ddf-8e31-ed1599044e96",
   "metadata": {
    "execution": {
     "iopub.execute_input": "2024-09-05T15:03:28.643758Z",
     "iopub.status.busy": "2024-09-05T15:03:28.643453Z",
     "iopub.status.idle": "2024-09-05T15:03:28.649737Z",
     "shell.execute_reply": "2024-09-05T15:03:28.648885Z",
     "shell.execute_reply.started": "2024-09-05T15:03:28.643734Z"
    }
   },
   "outputs": [
    {
     "data": {
      "text/plain": [
       "3"
      ]
     },
     "execution_count": 29,
     "metadata": {},
     "output_type": "execute_result"
    }
   ],
   "source": [
    "get_participant_leaning('TestingLoadingP2')"
   ]
  },
  {
   "cell_type": "code",
   "execution_count": 30,
   "id": "c870e65e-5989-474a-94cb-33e5e9cd582b",
   "metadata": {
    "execution": {
     "iopub.execute_input": "2024-09-05T15:04:35.044847Z",
     "iopub.status.busy": "2024-09-05T15:04:35.044462Z",
     "iopub.status.idle": "2024-09-05T15:04:35.061269Z",
     "shell.execute_reply": "2024-09-05T15:04:35.060547Z",
     "shell.execute_reply.started": "2024-09-05T15:04:35.044817Z"
    }
   },
   "outputs": [
    {
     "name": "stdout",
     "output_type": "stream",
     "text": [
      "L008\n",
      "R009\n",
      "HL006\n",
      "HR026\n",
      "HR029\n",
      "HR025\n",
      "L012\n",
      "HL020\n",
      "PR086\n",
      "PR065\n",
      "PL059\n",
      "PL061\n",
      "MR062\n",
      "L053\n",
      "MR051\n",
      "L028\n",
      "R013\n",
      "R015\n",
      "L002\n",
      "HL017\n",
      "MR036\n",
      "L055\n",
      "MR043\n",
      "L041\n",
      "R049\n",
      "ML044\n",
      "ML033\n",
      "R047\n",
      "HL007\n",
      "R003\n",
      "R024\n",
      "L022\n",
      "L076\n",
      "PR080\n",
      "PR072\n",
      "L089\n",
      "R056\n",
      "ML035\n",
      "R034\n",
      "ML031\n",
      "PR087\n",
      "PR067\n",
      "PL078\n",
      "PL084\n",
      "L016\n",
      "HR030\n",
      "HL004\n",
      "R023\n",
      "PR075\n",
      "PL088\n",
      "PR082\n",
      "PL074\n",
      "HL018\n",
      "L001\n",
      "HR019\n",
      "HR011\n",
      "L014\n",
      "R027\n",
      "L010\n",
      "R005\n",
      "R054\n",
      "R057\n",
      "L039\n",
      "ML040\n",
      "R066\n",
      "PR085\n",
      "L063\n",
      "PL060\n",
      "MR042\n",
      "L052\n",
      "L046\n",
      "R048\n",
      "R077\n",
      "L083\n",
      "R071\n",
      "L081\n",
      "R064\n",
      "PL073\n",
      "L070\n",
      "PR069\n",
      "MR058\n",
      "L032\n",
      "L045\n",
      "R038\n"
     ]
    }
   ],
   "source": [
    "records = {\n",
    "    'tweet_id' : [],\n",
    "    'tweet_bias' : [],\n",
    "    'treatment' : [],\n",
    "    'treated_' : [],\n",
    "    'participant_bias' : []\n",
    "}\n",
    "\n",
    "for idx, row in answers_df.iterrows():\n",
    "    text1 = row['Text1']\n",
    "    text2 = row['Text2']"
   ]
  },
  {
   "cell_type": "code",
   "execution_count": null,
   "id": "76aec3c9-21dd-4630-b612-be9d9dcd3b2d",
   "metadata": {},
   "outputs": [],
   "source": []
  }
 ],
 "metadata": {
  "kernelspec": {
   "display_name": "Python 3 (ipykernel)",
   "language": "python",
   "name": "python3"
  },
  "language_info": {
   "codemirror_mode": {
    "name": "ipython",
    "version": 3
   },
   "file_extension": ".py",
   "mimetype": "text/x-python",
   "name": "python",
   "nbconvert_exporter": "python",
   "pygments_lexer": "ipython3",
   "version": "3.12.2"
  }
 },
 "nbformat": 4,
 "nbformat_minor": 5
}
